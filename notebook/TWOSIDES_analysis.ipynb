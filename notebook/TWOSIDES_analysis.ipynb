{
 "cells": [
  {
   "cell_type": "code",
   "execution_count": 4,
   "id": "9fc3f496",
   "metadata": {},
   "outputs": [],
   "source": [
    "import pandas as pd"
   ]
  },
  {
   "cell_type": "code",
   "execution_count": null,
   "id": "6153406c",
   "metadata": {},
   "outputs": [
    {
     "name": "stdout",
     "output_type": "stream",
     "text": [
      "['drug_1_rxnorn_id', 'drug_1_concept_name', 'drug_2_rxnorm_id', 'drug_2_concept_name', 'condition_meddra_id', 'condition_concept_name', 'A', 'B', 'C', 'D', 'PRR', 'PRR_error', 'mean_reporting_frequency']\n",
      "   drug_1_rxnorn_id       drug_1_concept_name  drug_2_rxnorm_id  \\\n",
      "0             10355                 Temazepam            136411   \n",
      "1              1808                Bumetanide              7824   \n",
      "2            221147  POLYETHYLENE GLYCOL 3350              5521   \n",
      "3             10324                 Tamoxifen              8640   \n",
      "4             10355                 Temazepam            136411   \n",
      "\n",
      "  drug_2_concept_name  condition_meddra_id condition_concept_name   A    B  \\\n",
      "0          sildenafil             10003239             Arthralgia   7  149   \n",
      "1            Oxytocin             10003239             Arthralgia   1   13   \n",
      "2  Hydroxychloroquine             10003239             Arthralgia   6  103   \n",
      "3          Prednisone             10012735              Diarrhoea  18  123   \n",
      "4          sildenafil             10012735              Diarrhoea   2  154   \n",
      "\n",
      "    C     D       PRR  PRR_error  mean_reporting_frequency  \n",
      "0  24  1536  2.916670   0.421275                  0.044872  \n",
      "1   2   138  5.000000   1.192240                  0.071429  \n",
      "2  20  1070  3.000000   0.454505                  0.055046  \n",
      "3  35  1375  5.142860   0.276271                  0.127660  \n",
      "4  37  1523  0.540541   0.721093                  0.012821  \n"
     ]
    }
   ],
   "source": [
    "file_path = \"../data/TWOSIDES.csv.gz\"\n",
    "df = pd.read_csv(file_path, compression=\"gzip\", nrows=5)\n",
    "# cols = [\"drug_1_concept_name\", \"drug_2_concept_name\", \"condition_concept_name\", \"PRR\"]\n",
    "print(df.columns.tolist())\n",
    "print(df.head())"
   ]
  }
 ],
 "metadata": {
  "kernelspec": {
   "display_name": ".venv",
   "language": "python",
   "name": "python3"
  },
  "language_info": {
   "codemirror_mode": {
    "name": "ipython",
    "version": 3
   },
   "file_extension": ".py",
   "mimetype": "text/x-python",
   "name": "python",
   "nbconvert_exporter": "python",
   "pygments_lexer": "ipython3",
   "version": "3.13.7"
  }
 },
 "nbformat": 4,
 "nbformat_minor": 5
}
